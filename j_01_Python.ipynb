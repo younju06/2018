{
  "cells": [
    {
      "cell_type": "markdown",
      "id": "f0db2282",
      "metadata": {
        "id": "f0db2282"
      },
      "source": [
        "# 파이썬 기초"
      ]
    },
    {
      "cell_type": "markdown",
      "id": "afecd79e",
      "metadata": {
        "id": "afecd79e"
      },
      "source": [
        "# Jupyter Notebook\n",
        "\n",
        "- 개인 PC를 사용하는 경우  \n",
        "  - PC에 아나콘다 설치\n",
        "  - jupyter notebook 실행\n",
        "- 구글 클라우드 colab 사용  \n",
        "  - colab.research.google.com 접속\n",
        "  - 구글 계정에 가입해야 한다, 크롬 브라우저 사용\n",
        "  - 스마트폰에서도 colab 사용 가능\n",
        "- 예제는 github.com에서 다운로드 한다  \n",
        "  - github.com 계정 가입 필요"
      ]
    },
    {
      "cell_type": "markdown",
      "id": "e6576640",
      "metadata": {
        "id": "e6576640"
      },
      "source": [
        "# 기본 변수\n",
        "## 숫자, 문자열, 불리언\n",
        "\n",
        "- 숫자에는 정수(int)와 부동소수(float)가 있다\n",
        "- 불리언 변수가 연산에 사용되면 True는 1로, False는 0으로 자동으로 변환된다"
      ]
    },
    {
      "cell_type": "code",
      "execution_count": null,
      "id": "ceea3283",
      "metadata": {
        "id": "ceea3283",
        "outputId": "efd30a82-c4f4-46d6-9b19-531896a90ef4"
      },
      "outputs": [
        {
          "name": "stdout",
          "output_type": "stream",
          "text": [
            "False\n",
            "True\n"
          ]
        }
      ],
      "source": [
        "## 논리형 연산 결과는 논리형 값이다\n",
        "\n",
        "a = True\n",
        "b = False\n",
        "print(a & b) # False\n",
        "print(a | b) # True"
      ]
    },
    {
      "cell_type": "code",
      "execution_count": null,
      "id": "3dc997d9",
      "metadata": {
        "id": "3dc997d9",
        "outputId": "27e3e6d6-b212-4a5d-b742-72e1e7ea9f74"
      },
      "outputs": [
        {
          "name": "stdout",
          "output_type": "stream",
          "text": [
            "1\n",
            "4\n",
            "10\n"
          ]
        }
      ],
      "source": [
        "print(a+b)\n",
        "print(a+3)\n",
        "print(a*10)"
      ]
    },
    {
      "cell_type": "markdown",
      "id": "b49adaf8",
      "metadata": {
        "id": "b49adaf8"
      },
      "source": [
        "# 묶음 데이터\n",
        " - 숫자, 문자, 불리언 등 단변수들을 여러개 묶어 처리하는 방법\n",
        " - 리스트(list), 튜플(tuple), 사전(dictionary)"
      ]
    },
    {
      "cell_type": "markdown",
      "id": "5c04cea5",
      "metadata": {
        "id": "5c04cea5"
      },
      "source": [
        "## 리스트\n",
        " - 파이썬에서 가장 널리 사용되는 데이터 조작용 \"통\"\n",
        " - 리스트를 구성하는 각 항목의 데이터 타입은 서로 달라도 된다\n",
        " - 리스트 항목으로 이미지나, 파일 전체를 담을 수도 있다"
      ]
    },
    {
      "cell_type": "markdown",
      "id": "e88851d4",
      "metadata": {
        "id": "e88851d4"
      },
      "source": [
        "### 리스트 복제\n",
        "- 리스트 전체를 반복 복제 하려면 \"*\"를 사용한다\n",
        "- 리스트를 합치려면 \"+\"를 사용한다"
      ]
    },
    {
      "cell_type": "markdown",
      "id": "6dc16842",
      "metadata": {
        "id": "6dc16842"
      },
      "source": [
        "### 항목 추가 : append()"
      ]
    },
    {
      "cell_type": "code",
      "execution_count": null,
      "id": "2fdb6f52",
      "metadata": {
        "id": "2fdb6f52",
        "outputId": "0a38d5f8-2b14-45b1-f6a8-9bb863ac2a2c"
      },
      "outputs": [
        {
          "data": {
            "text/plain": [
              "[0, 0, 0, 0, 0, 1, 1, 1, 1, 1]"
            ]
          },
          "execution_count": 11,
          "metadata": {},
          "output_type": "execute_result"
        }
      ],
      "source": [
        "## 리스트 복제 및 더하기\n",
        "\n",
        "a = [0] # 항목이 0 하나인 리스트\n",
        "b = [1] # 항목이 1 하나인 리스트\n",
        "z = a*5 + b*5\n",
        "z"
      ]
    },
    {
      "cell_type": "code",
      "execution_count": null,
      "id": "f15c2cc2",
      "metadata": {
        "id": "f15c2cc2",
        "outputId": "486ff7f8-e791-4dc9-bd4f-9417f93ba33a"
      },
      "outputs": [
        {
          "data": {
            "text/plain": [
              "[0, 0, 0, 0, 0, 1, 1, 1, 1, 1, 5]"
            ]
          },
          "execution_count": 12,
          "metadata": {},
          "output_type": "execute_result"
        }
      ],
      "source": [
        "z.append(5)\n",
        "z"
      ]
    },
    {
      "cell_type": "markdown",
      "id": "8257e1de",
      "metadata": {
        "id": "8257e1de"
      },
      "source": [
        "## range\n",
        "\n",
        "- 일정한 범위의 값들을 나타내는 특수 변수"
      ]
    },
    {
      "cell_type": "code",
      "execution_count": null,
      "id": "6bc782f4",
      "metadata": {
        "id": "6bc782f4",
        "outputId": "8b3eea49-5ea4-48a5-be4c-393fe10feef6"
      },
      "outputs": [
        {
          "name": "stdout",
          "output_type": "stream",
          "text": [
            "range(0, 10)\n",
            "[0, 1, 2, 3, 4, 5, 6, 7, 8, 9]\n",
            "range(2, 20, 3)\n",
            "[2, 5, 8, 11, 14, 17]\n"
          ]
        }
      ],
      "source": [
        "## 특수 변수 range와 내용 보기\n",
        "\n",
        "x = range(10)\n",
        "print(x)\n",
        "print(list(x))\n",
        "\n",
        "y = range(2,20,3)\n",
        "print(y)\n",
        "print(list(y))"
      ]
    },
    {
      "cell_type": "code",
      "execution_count": null,
      "id": "b3fc3e51",
      "metadata": {
        "id": "b3fc3e51",
        "outputId": "0f0d6473-d6dc-491a-ac8f-e21fdae8b0c5"
      },
      "outputs": [
        {
          "name": "stdout",
          "output_type": "stream",
          "text": [
            "10\n",
            "20\n",
            "30\n",
            "40\n",
            "50\n"
          ]
        }
      ],
      "source": [
        "## 1~5 사이의 정수에 10을 곱하기\n",
        "\n",
        "for i in range(1,6):\n",
        "    print(i*10)"
      ]
    },
    {
      "cell_type": "markdown",
      "id": "61dcd73a",
      "metadata": {
        "id": "61dcd73a"
      },
      "source": [
        "### 리스트 내에서 for 사용하기"
      ]
    },
    {
      "cell_type": "code",
      "execution_count": null,
      "id": "2a961ea2",
      "metadata": {
        "id": "2a961ea2",
        "outputId": "16baa056-97dd-4d7d-8de3-c1d019962eea"
      },
      "outputs": [
        {
          "name": "stdout",
          "output_type": "stream",
          "text": [
            "[10, 20, 30, 40, 50]\n"
          ]
        }
      ],
      "source": [
        "## 리스트 선언문 내에서 for를 사용하는 방법\n",
        "\n",
        "z = [i*10 for i in range(1,6)]\n",
        "print(z)"
      ]
    },
    {
      "cell_type": "code",
      "execution_count": null,
      "id": "f0c8db44",
      "metadata": {
        "id": "f0c8db44",
        "outputId": "9e76dfee-d6d5-4868-ad5e-747a3810b812"
      },
      "outputs": [
        {
          "name": "stdout",
          "output_type": "stream",
          "text": [
            "['cat001', 'cat002']\n"
          ]
        }
      ],
      "source": [
        "## 특정 문자열이 포함된 항목을 찾아서 리스트를 만들기\n",
        "\n",
        "files = ['cat001', 'cat002', 'dog003', 'dog004']\n",
        "key = 'cat'\n",
        "new_list = [s for s in files if key in s]\n",
        "print(new_list)"
      ]
    },
    {
      "cell_type": "code",
      "execution_count": null,
      "id": "c92aafab",
      "metadata": {
        "id": "c92aafab"
      },
      "outputs": [],
      "source": []
    }
  ],
  "metadata": {
    "kernelspec": {
      "display_name": "Python 3",
      "language": "python",
      "name": "python3"
    },
    "language_info": {
      "codemirror_mode": {
        "name": "ipython",
        "version": 3
      },
      "file_extension": ".py",
      "mimetype": "text/x-python",
      "name": "python",
      "nbconvert_exporter": "python",
      "pygments_lexer": "ipython3",
      "version": "3.8.8"
    },
    "toc": {
      "base_numbering": 1,
      "nav_menu": {},
      "number_sections": false,
      "sideBar": true,
      "skip_h1_title": false,
      "title_cell": "Table of Contents",
      "title_sidebar": "Contents",
      "toc_cell": false,
      "toc_position": {
        "height": "calc(100% - 180px)",
        "left": "10px",
        "top": "150px",
        "width": "165px"
      },
      "toc_section_display": true,
      "toc_window_display": true
    },
    "colab": {
      "provenance": []
    }
  },
  "nbformat": 4,
  "nbformat_minor": 5
}